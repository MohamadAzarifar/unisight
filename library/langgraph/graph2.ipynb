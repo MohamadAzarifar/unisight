{
 "cells": [
  {
   "cell_type": "code",
   "execution_count": null,
   "id": "fed99384",
   "metadata": {},
   "outputs": [],
   "source": [
    "from typing import TypedDict, List, Union\n",
    "from langgraph.graph import StateGraph, START, END\n",
    "from langchain_core.messages import HumanMessage, AIMessage\n",
    "from langchain_ollama import ChatOllama\n",
    "from pprint import pprint\n",
    "\n",
    "class AgentState(TypedDict):\n",
    "    messages: List[Union[HumanMessage, AIMessage]]\n",
    "\n",
    "llm = ChatOllama(model=\"qwen3:0.6b\", reasoning=False, temperature=0.1)\n",
    "\n",
    "def process(state: AgentState) -> AgentState:\n",
    "    response = llm.invoke(state[\"messages\"])\n",
    "    state[\"messages\"].append(AIMessage(content=response.content))\n",
    "    print(f\"\\nAI: {response.content}\")\n",
    "    return state\n",
    "\n",
    "graph = StateGraph(AgentState)\n",
    "graph.add_node(\"process\", process)\n",
    "graph.add_edge(START, \"process\")\n",
    "graph.add_edge(\"process\", END)\n",
    "agent = graph.compile()\n",
    "\n",
    "conversation_history = []\n",
    "\n",
    "user_input = input(\"Enter: \")\n",
    "while user_input != \"exit\":\n",
    "    conversation_history.append(HumanMessage(content=user_input))\n",
    "    result = agent.invoke({\"messages\": [HumanMessage(content=user_input)]})\n",
    "    conversation_history = result[\"messages\"]\n",
    "    user_input = input(\"Enter: \")\n",
    "    \n"
   ]
  }
 ],
 "metadata": {
  "kernelspec": {
   "display_name": ".venv",
   "language": "python",
   "name": "python3"
  },
  "language_info": {
   "codemirror_mode": {
    "name": "ipython",
    "version": 3
   },
   "file_extension": ".py",
   "mimetype": "text/x-python",
   "name": "python",
   "nbconvert_exporter": "python",
   "pygments_lexer": "ipython3",
   "version": "3.12.7"
  }
 },
 "nbformat": 4,
 "nbformat_minor": 5
}
