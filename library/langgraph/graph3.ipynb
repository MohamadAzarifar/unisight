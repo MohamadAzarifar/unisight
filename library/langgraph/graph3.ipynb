{
 "cells": [
  {
   "cell_type": "markdown",
   "id": "861f9b68",
   "metadata": {},
   "source": [
    "# Question"
   ]
  },
  {
   "cell_type": "code",
   "execution_count": 342,
   "id": "6d62e14f",
   "metadata": {},
   "outputs": [],
   "source": [
    "question = \"وضعیت بازار چگونه است\""
   ]
  },
  {
   "cell_type": "markdown",
   "id": "55ff13b3",
   "metadata": {},
   "source": [
    "# Setup"
   ]
  },
  {
   "cell_type": "markdown",
   "id": "2253212b",
   "metadata": {},
   "source": [
    "## Imports"
   ]
  },
  {
   "cell_type": "code",
   "execution_count": 343,
   "id": "ee7a8645",
   "metadata": {},
   "outputs": [],
   "source": [
    "from langgraph.graph import StateGraph, END, START\n",
    "from typing import TypedDict, List, Annotated\n",
    "from langchain_core.messages import HumanMessage, SystemMessage, AIMessage\n",
    "import operator\n",
    "import psycopg2\n",
    "from psycopg2 import sql\n",
    "import re\n",
    "from langchain_ollama import ChatOllama\n",
    "from IPython.display import Image, display"
   ]
  },
  {
   "cell_type": "markdown",
   "id": "58fa079a",
   "metadata": {},
   "source": [
    "## State"
   ]
  },
  {
   "cell_type": "markdown",
   "id": "450fdd17",
   "metadata": {},
   "source": [
    "### Sample"
   ]
  },
  {
   "cell_type": "code",
   "execution_count": 344,
   "id": "888240d4",
   "metadata": {},
   "outputs": [],
   "source": [
    "# Define the state structure\n",
    "class AgentState(TypedDict):\n",
    "    messages: Annotated[List, operator.add]  # Accumulates all messages\n",
    "    user_query: str  # Original user query\n",
    "    detected_language: str  # Detected language of user input\n",
    "    corrected_query: str  # Corrected/improved query\n",
    "    is_relevant: bool  # Whether query is relevant to Chinook DB\n",
    "    sql_query: str  # Generated SQL query\n",
    "    query_result: str  # Result from database query\n",
    "    final_answer: str  # Final response to user"
   ]
  },
  {
   "cell_type": "markdown",
   "id": "acd2bfed",
   "metadata": {},
   "source": [
    "### Custom"
   ]
  },
  {
   "cell_type": "code",
   "execution_count": 345,
   "id": "0bd12d51",
   "metadata": {},
   "outputs": [],
   "source": [
    "class States(TypedDict):\n",
    "    messages: Annotated[List, operator.add]  # Accumulates all messages\n",
    "    question: str  # Original user query\n",
    "    language: str"
   ]
  },
  {
   "cell_type": "markdown",
   "id": "d9efe0db",
   "metadata": {},
   "source": [
    "## Prompts"
   ]
  },
  {
   "cell_type": "markdown",
   "id": "acebbb99",
   "metadata": {},
   "source": [
    "### Detect Language"
   ]
  },
  {
   "cell_type": "code",
   "execution_count": 346,
   "id": "395bdf71",
   "metadata": {},
   "outputs": [],
   "source": [
    "prompt_detect_language = \"\"\"\n",
    "Detect the language of the user's text. \n",
    "Respond with ONLY the language name in English. \n",
    "Do not include any other text, explanations, or punctuation.\n",
    "\n",
    "Examples:\n",
    "- User: \"Hola cómo estás\" → Spanish\n",
    "- User: \"Bonjour comment ça va\" → French\n",
    "- User: \"Hello how are you\" → English\n",
    "- User: \"Wie geht es dir\" → German\n",
    "- User: \"你好吗\" → Chinese\n",
    "- User: \"お元気ですか\" → Japanese\n",
    "- User: \"Как дела\" → Russian\n",
    "- User: \"سلام، حالت چطوره\" → Persian\n",
    "\"\"\""
   ]
  },
  {
   "cell_type": "markdown",
   "id": "a175e148",
   "metadata": {},
   "source": [
    "## Model"
   ]
  },
  {
   "cell_type": "code",
   "execution_count": 347,
   "id": "0253a522",
   "metadata": {},
   "outputs": [],
   "source": [
    "# Initialize the LLM\n",
    "llm = ChatOllama(model=\"llama3.2:3b\", reasoning=False, temperature=0.1)"
   ]
  },
  {
   "cell_type": "markdown",
   "id": "e9d494fb",
   "metadata": {},
   "source": [
    "## Database"
   ]
  },
  {
   "cell_type": "markdown",
   "id": "20445549",
   "metadata": {},
   "source": [
    "### Connection"
   ]
  },
  {
   "cell_type": "code",
   "execution_count": 348,
   "id": "20b5b9c9",
   "metadata": {},
   "outputs": [],
   "source": [
    "DB_CONFIG = {\n",
    "    \"host\": \"localhost\",\n",
    "    \"database\": \"chinook\",\n",
    "    \"user\": \"postgres\",\n",
    "    \"password\": \"chinook\",\n",
    "    \"port\": \"55000\"\n",
    "}\n",
    "\n",
    "# Database connection setup for PostgreSQL\n",
    "def get_postgres_connection():\n",
    "    \"\"\"Get connection to PostgreSQL database\"\"\"\n",
    "    try:\n",
    "        conn = psycopg2.connect(**DB_CONFIG)\n",
    "        return conn\n",
    "    except Exception as e:\n",
    "        raise Exception(f\"Failed to connect to PostgreSQL: {e}\")"
   ]
  },
  {
   "cell_type": "markdown",
   "id": "00306a7b",
   "metadata": {},
   "source": [
    "### Schema"
   ]
  },
  {
   "cell_type": "code",
   "execution_count": 349,
   "id": "294c3f5f",
   "metadata": {},
   "outputs": [],
   "source": [
    "def get_database_schema():\n",
    "    \"\"\"Get the schema of Chinook database for PostgreSQL\"\"\"\n",
    "    conn = get_postgres_connection()\n",
    "    cursor = conn.cursor()\n",
    "    \n",
    "    schema_info = \"# Chinook Database Schema\\n\\n\"\n",
    "    \n",
    "    # Get table information\n",
    "    cursor.execute(\"\"\"\n",
    "        SELECT table_name, table_type \n",
    "        FROM information_schema.tables \n",
    "        WHERE table_schema = 'public'\n",
    "        ORDER BY table_name;\n",
    "    \"\"\")\n",
    "    tables = cursor.fetchall()\n",
    "    \n",
    "    for table in tables:\n",
    "        table_name, table_type = table\n",
    "        \n",
    "        # Get column information\n",
    "        cursor.execute(\"\"\"\n",
    "            SELECT column_name, data_type, is_nullable, column_default\n",
    "            FROM information_schema.columns \n",
    "            WHERE table_schema = 'public' AND table_name = %s\n",
    "            ORDER BY ordinal_position;\n",
    "        \"\"\", (table_name,))\n",
    "        columns = cursor.fetchall()\n",
    "        \n",
    "        # Get primary key information\n",
    "        cursor.execute(\"\"\"\n",
    "            SELECT kcu.column_name\n",
    "            FROM information_schema.table_constraints tc\n",
    "            JOIN information_schema.key_column_usage kcu \n",
    "                ON tc.constraint_name = kcu.constraint_name\n",
    "                AND tc.table_schema = kcu.table_schema\n",
    "            WHERE tc.constraint_type = 'PRIMARY KEY' \n",
    "                AND tc.table_schema = 'public'\n",
    "                AND tc.table_name = %s;\n",
    "        \"\"\", (table_name,))\n",
    "        primary_keys = [pk[0] for pk in cursor.fetchall()]\n",
    "        \n",
    "        # Get foreign key information\n",
    "        cursor.execute(\"\"\"\n",
    "            SELECT\n",
    "                kcu.column_name,\n",
    "                ccu.table_name AS foreign_table_name,\n",
    "                ccu.column_name AS foreign_column_name\n",
    "            FROM information_schema.table_constraints AS tc\n",
    "            JOIN information_schema.key_column_usage AS kcu\n",
    "                ON tc.constraint_name = kcu.constraint_name\n",
    "                AND tc.table_schema = kcu.table_schema\n",
    "            JOIN information_schema.constraint_column_usage AS ccu\n",
    "                ON ccu.constraint_name = tc.constraint_name\n",
    "                AND ccu.table_schema = tc.table_schema\n",
    "            WHERE tc.constraint_type = 'FOREIGN KEY' \n",
    "                AND tc.table_schema = 'public'\n",
    "                AND tc.table_name = %s;\n",
    "        \"\"\", (table_name,))\n",
    "        foreign_keys = cursor.fetchall()\n",
    "        \n",
    "        schema_info += f\"## Table: {table_name} ({table_type})\\n\"\n",
    "        \n",
    "        # Add columns\n",
    "        schema_info += \"### Columns:\\n\"\n",
    "        for col in columns:\n",
    "            column_name, data_type, is_nullable, column_default = col\n",
    "            pk_indicator = \" (PK)\" if column_name in primary_keys else \"\"\n",
    "            fk_info = \"\"\n",
    "            for fk in foreign_keys:\n",
    "                if fk[0] == column_name:\n",
    "                    fk_info = f\" → {fk[1]}({fk[2]})\"\n",
    "            default_info = f\" DEFAULT: {column_default}\" if column_default else \"\"\n",
    "            nullable_info = \" NOT NULL\" if is_nullable == 'NO' else \"\"\n",
    "            schema_info += f\"  - {column_name}: {data_type}{nullable_info}{pk_indicator}{fk_info}{default_info}\\n\"\n",
    "        \n",
    "        # Add sample data count\n",
    "        cursor.execute(sql.SQL(\"SELECT COUNT(*) FROM {}\").format(sql.Identifier(table_name)))\n",
    "        count = cursor.fetchone()[0]\n",
    "        schema_info += f\"  - Sample data: {count} rows\\n\\n\"\n",
    "    \n",
    "    # Get view information\n",
    "    cursor.execute(\"\"\"\n",
    "        SELECT table_name, view_definition\n",
    "        FROM information_schema.views \n",
    "        WHERE table_schema = 'public'\n",
    "        ORDER BY table_name;\n",
    "    \"\"\")\n",
    "    views = cursor.fetchall()\n",
    "    \n",
    "    if views:\n",
    "        schema_info += \"## Views:\\n\"\n",
    "        for view in views:\n",
    "            view_name, view_definition = view\n",
    "            schema_info += f\"### View: {view_name}\\n\"\n",
    "            schema_info += f\"Definition: {view_definition[:200]}...\\n\\n\"\n",
    "    \n",
    "    conn.close()\n",
    "    return schema_info"
   ]
  },
  {
   "cell_type": "markdown",
   "id": "eea6afc2",
   "metadata": {},
   "source": [
    "# Nodes"
   ]
  },
  {
   "cell_type": "markdown",
   "id": "3a50d124",
   "metadata": {},
   "source": [
    "## Detetct Language"
   ]
  },
  {
   "cell_type": "code",
   "execution_count": 350,
   "id": "a1a724c9",
   "metadata": {},
   "outputs": [],
   "source": [
    "def detect_language(state: States) -> States:\n",
    "    \"\"\"Detect the langugae of the question\"\"\"\n",
    "\n",
    "    print(\"⚡️ Detecting Language\")\n",
    "\n",
    "    detect_prompt = [\n",
    "        SystemMessage(content=prompt_detect_language),\n",
    "        HumanMessage(content=state[\"question\"])\n",
    "    ]\n",
    "\n",
    "    language = llm.invoke(detect_prompt).content\n",
    "\n",
    "    print(f\"📡 Language Detected:\\n{language}\")\n",
    "\n",
    "    return {\n",
    "        \"messages\": [],\n",
    "        \"language\": language,\n",
    "        \"question\": state[\"question\"]\n",
    "    }\n",
    "    \n",
    "        "
   ]
  },
  {
   "cell_type": "markdown",
   "id": "e234c052",
   "metadata": {},
   "source": [
    "## Other Nodes"
   ]
  },
  {
   "cell_type": "code",
   "execution_count": 351,
   "id": "93a5366e",
   "metadata": {},
   "outputs": [],
   "source": [
    "# Node 1: Detect and translate to English\n",
    "def detect_and_translate(state: AgentState):\n",
    "    print(\"Detecting language and translating to English...\")\n",
    "    \n",
    "    # Detect language\n",
    "    detect_prompt = [\n",
    "        SystemMessage(content=\"Detect the language of this text. Respond with just the language name (e.g., 'English', 'Spanish', 'French').\"),\n",
    "        HumanMessage(content=state[\"user_query\"])\n",
    "    ]\n",
    "    \n",
    "    detected_lang = llm.invoke(detect_prompt).content\n",
    "    \n",
    "    # Translate to English if not already\n",
    "    if detected_lang.lower() != \"english\":\n",
    "        translate_prompt = [\n",
    "            SystemMessage(content=f\"Translate this {detected_lang} text to English accurately.\"),\n",
    "            HumanMessage(content=state[\"user_query\"])\n",
    "        ]\n",
    "        translated_query = llm.invoke(translate_prompt).content\n",
    "    else:\n",
    "        translated_query = state[\"user_query\"]\n",
    "    \n",
    "    return {\n",
    "        \"detected_language\": detected_lang,\n",
    "        \"corrected_query\": translated_query,\n",
    "        \"messages\": [HumanMessage(content=f\"Translated to English: {translated_query}\")]\n",
    "    }"
   ]
  },
  {
   "cell_type": "code",
   "execution_count": 352,
   "id": "8fa8de4a",
   "metadata": {},
   "outputs": [],
   "source": [
    "# Node 2: Correct and improve the query\n",
    "def correct_query(state: AgentState):\n",
    "    print(\"Correcting and improving the query...\")\n",
    "    \n",
    "    schema = get_database_schema()\n",
    "    \n",
    "    correction_prompt = [\n",
    "        SystemMessage(content=f\"\"\"You are a database expert. Based on the Chinook database schema below, \n",
    "        correct and improve the user's question to make it more precise and suitable for SQL querying.\n",
    "        \n",
    "        Database Schema:\n",
    "        {schema}\n",
    "        \n",
    "        Respond with only the improved question, no additional text.\"\"\"),\n",
    "        HumanMessage(content=state[\"corrected_query\"])\n",
    "    ]\n",
    "    \n",
    "    corrected = llm.invoke(correction_prompt).content\n",
    "    return {\"corrected_query\": corrected}"
   ]
  },
  {
   "cell_type": "code",
   "execution_count": 353,
   "id": "f222ea0c",
   "metadata": {},
   "outputs": [],
   "source": [
    "# Node 3: Check relevance to Chinook database\n",
    "def check_relevance(state: AgentState):\n",
    "    print(\"Checking relevance to Chinook database...\")\n",
    "    \n",
    "    schema = get_database_schema()\n",
    "    schema_summary = \"Chinook database contains music store data: artists, albums, tracks, customers, invoices, employees, etc.\"\n",
    "    \n",
    "    relevance_prompt = [\n",
    "        SystemMessage(content=f\"\"\"Determine if this question is relevant to the Chinook database.\n",
    "        Chinook Database Content: {schema_summary}\n",
    "        \n",
    "        Respond with only 'RELEVANT' or 'IRRELEVANT'. No other text.\"\"\"),\n",
    "        HumanMessage(content=state[\"corrected_query\"])\n",
    "    ]\n",
    "    \n",
    "    response = llm.invoke(relevance_prompt).content.upper()\n",
    "    is_relevant = \"RELEVANT\" in response\n",
    "    \n",
    "    if not is_relevant:\n",
    "        return {\n",
    "            \"is_relevant\": False,\n",
    "            \"final_answer\": \"I'm sorry, but this question doesn't seem to be related to the Chinook music database. Please ask about music, customers, invoices, artists, or other related topics.\"\n",
    "        }\n",
    "    \n",
    "    return {\"is_relevant\": True}"
   ]
  },
  {
   "cell_type": "code",
   "execution_count": 354,
   "id": "9cb61a6f",
   "metadata": {},
   "outputs": [],
   "source": [
    "# Node 4: Generate SQL query (updated for PostgreSQL)\n",
    "def generate_sql(state: AgentState):\n",
    "    print(\"Generating SQL query...\")\n",
    "    \n",
    "    schema = get_database_schema()  # or get_database_schema_simple()\n",
    "    \n",
    "    sql_prompt = [\n",
    "        SystemMessage(content=f\"\"\"You are a SQL expert. Generate a PostgreSQL query based on the Chinook database schema.\n",
    "        \n",
    "        Database Schema:\n",
    "        {schema}\n",
    "        \n",
    "        Important: \n",
    "        - Use PostgreSQL syntax (e.g., ILIKE instead of LIKE for case-insensitive search)\n",
    "        - Use double quotes for identifiers if needed\n",
    "        - Only respond with the SQL query, no additional text or explanations.\n",
    "        - Use proper JOIN syntax and avoid deprecated methods.\"\"\"),\n",
    "        HumanMessage(content=state[\"corrected_query\"])\n",
    "    ]\n",
    "    \n",
    "    sql_query = llm.invoke(sql_prompt).content\n",
    "    # Clean up the SQL query (remove markdown code blocks if present)\n",
    "    sql_query = re.sub(r'```sql\\n?|\\n?```', '', sql_query).strip()\n",
    "    \n",
    "    return {\"sql_query\": sql_query}"
   ]
  },
  {
   "cell_type": "code",
   "execution_count": 355,
   "id": "be3bfeee",
   "metadata": {},
   "outputs": [],
   "source": [
    "# Node 5: Execute SQL query (updated for PostgreSQL)\n",
    "def execute_sql(state: AgentState):\n",
    "    print(\"Executing SQL query...\")\n",
    "    \n",
    "    try:\n",
    "        conn = get_postgres_connection()\n",
    "        cursor = conn.cursor()\n",
    "        \n",
    "        # Execute the query\n",
    "        cursor.execute(state[\"sql_query\"])\n",
    "        results = cursor.fetchall()\n",
    "        \n",
    "        # Format results\n",
    "        if results:\n",
    "            # Get column names\n",
    "            column_names = [desc[0] for desc in cursor.description]\n",
    "            result_str = f\"Columns: {', '.join(column_names)}\\n\"\n",
    "            result_str += \"Results:\\n\"\n",
    "            for row in results:\n",
    "                result_str += f\"{row}\\n\"\n",
    "            \n",
    "            # Add row count\n",
    "            result_str += f\"\\nTotal rows: {len(results)}\"\n",
    "        else:\n",
    "            result_str = \"No results found.\"\n",
    "        \n",
    "        conn.close()\n",
    "        return {\"query_result\": result_str}\n",
    "        \n",
    "    except Exception as e:\n",
    "        error_msg = f\"Error executing query: {str(e)}\"\n",
    "        # Add the SQL query to error message for debugging\n",
    "        error_msg += f\"\\nSQL Query: {state['sql_query']}\"\n",
    "        return {\"query_result\": error_msg}"
   ]
  },
  {
   "cell_type": "code",
   "execution_count": 356,
   "id": "4608f3b0",
   "metadata": {},
   "outputs": [],
   "source": [
    "# Node 6: Generate natural language response\n",
    "def generate_response(state: AgentState):\n",
    "    print(\"Generating natural language response...\")\n",
    "    \n",
    "    response_prompt = [\n",
    "        SystemMessage(content=\"\"\"Based on the SQL query results, provide a clear, natural language answer to the user's original question.\n",
    "        Be concise and business-focused in your response.\"\"\"),\n",
    "        HumanMessage(content=f\"\"\"Original question: {state['corrected_query']}\n",
    "        SQL Results: {state['query_result']}\n",
    "        \n",
    "        Provide a helpful response:\"\"\")\n",
    "    ]\n",
    "    \n",
    "    english_response = llm.invoke(response_prompt).content\n",
    "    \n",
    "    # Translate back to original language if needed\n",
    "    if state[\"detected_language\"].lower() != \"english\":\n",
    "        translate_prompt = [\n",
    "            SystemMessage(content=f\"Translate this English text to {state['detected_language']} accurately.\"),\n",
    "            HumanMessage(content=english_response)\n",
    "        ]\n",
    "        final_response = llm.invoke(translate_prompt).content\n",
    "    else:\n",
    "        final_response = english_response\n",
    "    \n",
    "    return {\"final_answer\": final_response}"
   ]
  },
  {
   "cell_type": "code",
   "execution_count": 357,
   "id": "b86cd44b",
   "metadata": {},
   "outputs": [],
   "source": [
    "# Node 7: Handle irrelevant queries\n",
    "def handle_irrelevant_query(state: AgentState):\n",
    "    print(\"Handling irrelevant query...\")\n",
    "    \n",
    "    if state[\"detected_language\"].lower() != \"english\":\n",
    "        # Translate the irrelevant message to user's language\n",
    "        translate_prompt = [\n",
    "            SystemMessage(content=f\"Translate this English text to {state['detected_language']}:\"),\n",
    "            HumanMessage(content=state[\"final_answer\"])\n",
    "        ]\n",
    "        translated_response = llm.invoke(translate_prompt).content\n",
    "        return {\"final_answer\": translated_response}\n",
    "    \n",
    "    return state"
   ]
  },
  {
   "cell_type": "code",
   "execution_count": 358,
   "id": "5278c6d9",
   "metadata": {},
   "outputs": [],
   "source": [
    "# Conditional edge functions\n",
    "def is_relevant(state: AgentState):\n",
    "    return state.get(\"is_relevant\", False)"
   ]
  },
  {
   "cell_type": "code",
   "execution_count": 359,
   "id": "a68e645f",
   "metadata": {},
   "outputs": [],
   "source": [
    "def sql_execution_successful(state: AgentState):\n",
    "    return not state.get(\"query_result\", \"\").startswith(\"Error\")"
   ]
  },
  {
   "cell_type": "markdown",
   "id": "a4778c07",
   "metadata": {},
   "source": [
    "# Workflow"
   ]
  },
  {
   "cell_type": "markdown",
   "id": "de4b7d71",
   "metadata": {},
   "source": [
    "## Sample"
   ]
  },
  {
   "cell_type": "code",
   "execution_count": 360,
   "id": "890c0b61",
   "metadata": {},
   "outputs": [],
   "source": [
    "# Build the graph\n",
    "def create_chinook_agent():\n",
    "    workflow = StateGraph(States)\n",
    "\n",
    "    workflow.add_node(detect_language.__name__, detect_language)\n",
    "\n",
    "    workflow.add_edge(START, detect_language.__name__)\n",
    "    workflow.add_edge(detect_language.__name__, END)\n",
    "    \n",
    "    # Add nodes\n",
    "    # workflow.add_node(\"detect_translate\", detect_and_translate)\n",
    "    # workflow.add_node(\"correct_query\", correct_query)\n",
    "    # workflow.add_node(\"check_relevance\", check_relevance)\n",
    "    # workflow.add_node(\"generate_sql\", generate_sql)\n",
    "    # workflow.add_node(\"execute_sql\", execute_sql)\n",
    "    # workflow.add_node(\"generate_response\", generate_response)\n",
    "    # workflow.add_node(\"handle_irrelevant\", handle_irrelevant_query)\n",
    "    \n",
    "    # # Set entry point\n",
    "    # workflow.set_entry_point(\"detect_translate\")\n",
    "    \n",
    "    # # Add edges\n",
    "    # workflow.add_edge(\"detect_translate\", \"correct_query\")\n",
    "    # workflow.add_edge(\"correct_query\", \"check_relevance\")\n",
    "    \n",
    "    # # Conditional edge after relevance check\n",
    "    # workflow.add_conditional_edges(\n",
    "    #     \"check_relevance\",\n",
    "    #     is_relevant,\n",
    "    #     {\n",
    "    #         True: \"generate_sql\",\n",
    "    #         False: \"handle_irrelevant\"\n",
    "    #     }\n",
    "    # )\n",
    "    \n",
    "    # workflow.add_edge(\"generate_sql\", \"execute_sql\")\n",
    "    # workflow.add_edge(\"execute_sql\", \"generate_response\")\n",
    "    # workflow.add_edge(\"generate_response\", END)\n",
    "    # workflow.add_edge(\"handle_irrelevant\", END)\n",
    "    \n",
    "    return workflow.compile()"
   ]
  },
  {
   "cell_type": "markdown",
   "id": "38559f42",
   "metadata": {},
   "source": [
    "## Custom"
   ]
  },
  {
   "cell_type": "code",
   "execution_count": 361,
   "id": "f7f581b4",
   "metadata": {},
   "outputs": [],
   "source": [
    "def create_workflow():\n",
    "    workflow = StateGraph(States)\n",
    "    \n",
    "    workflow.add_node(detect_language.__name__, detect_language)\n",
    "\n",
    "    workflow.add_edge(START, detect_language.__name__)\n",
    "    workflow.add_edge(detect_language.__name__, END)\n",
    "    return workflow.compile()"
   ]
  },
  {
   "cell_type": "markdown",
   "id": "16d636a9",
   "metadata": {},
   "source": [
    "# App"
   ]
  },
  {
   "cell_type": "markdown",
   "id": "b1837df8",
   "metadata": {},
   "source": [
    "## Sample"
   ]
  },
  {
   "cell_type": "code",
   "execution_count": 362,
   "id": "ed86fe12",
   "metadata": {},
   "outputs": [],
   "source": [
    "# # Main function to test the agent\n",
    "\n",
    "# # Create the agent\n",
    "# agent = create_chinook_agent()\n",
    "\n",
    "# initial_state = {\n",
    "#     \"messages\": [],\n",
    "#     \"user_query\": question,\n",
    "#     \"detected_language\": \"en\",\n",
    "#     \"corrected_query\": \"\",\n",
    "#     \"is_relevant\": True,\n",
    "#     \"sql_query\": \"\",\n",
    "#     \"query_result\": \"\",\n",
    "#     \"final_answer\": \"\"\n",
    "# }\n",
    "\n",
    "# agent.invoke(initial_state)\n",
    "\n",
    "# try:\n",
    "#     result = agent.invoke(initial_state)\n",
    "#     print(f\"\\nFinal Answer: {result['final_answer']}\")\n",
    "#     print(f\"\\nDetected Language: {result.get('detected_language', 'Unknown')}\")\n",
    "#     print(f\"Corrected Query: {result.get('corrected_query', 'N/A')}\")\n",
    "#     if result.get('sql_query'):\n",
    "#         print(f\"Generated SQL: {result['sql_query']}\")\n",
    "# except Exception as e:\n",
    "#     print(f\"Error: {e}\")"
   ]
  },
  {
   "cell_type": "markdown",
   "id": "54b7de59",
   "metadata": {},
   "source": [
    "## Custom"
   ]
  },
  {
   "cell_type": "code",
   "execution_count": 363,
   "id": "93180b8f",
   "metadata": {},
   "outputs": [
    {
     "name": "stdout",
     "output_type": "stream",
     "text": [
      "⚡️ Detecting Language\n"
     ]
    },
    {
     "name": "stdout",
     "output_type": "stream",
     "text": [
      "📡 Language Detected:\n",
      "Persian\n"
     ]
    },
    {
     "data": {
      "text/plain": [
       "{'messages': [], 'question': 'وضعیت بازار چگونه است', 'language': 'Persian'}"
      ]
     },
     "execution_count": 363,
     "metadata": {},
     "output_type": "execute_result"
    }
   ],
   "source": [
    "\n",
    "agent = create_workflow()\n",
    "\n",
    "initiate_state = {\n",
    "    \"messages\": [],\n",
    "    \"question\": question,\n",
    "}\n",
    "\n",
    "agent.invoke(initiate_state)"
   ]
  }
 ],
 "metadata": {
  "kernelspec": {
   "display_name": ".venv",
   "language": "python",
   "name": "python3"
  },
  "language_info": {
   "codemirror_mode": {
    "name": "ipython",
    "version": 3
   },
   "file_extension": ".py",
   "mimetype": "text/x-python",
   "name": "python",
   "nbconvert_exporter": "python",
   "pygments_lexer": "ipython3",
   "version": "3.12.7"
  }
 },
 "nbformat": 4,
 "nbformat_minor": 5
}
